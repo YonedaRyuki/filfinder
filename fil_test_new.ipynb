{
 "cells": [
  {
   "cell_type": "code",
   "execution_count": 1,
   "id": "186c5c6f",
   "metadata": {},
   "outputs": [
    {
     "name": "stderr",
     "output_type": "stream",
     "text": [
      "WARNING: AstropyDeprecationWarning: block_reduce was moved to the astropy.nddata.blocks module.  Please update your import statement. [astropy.nddata.utils]\n"
     ]
    }
   ],
   "source": [
    "from astropy.io import fits\n",
    "import numpy as np\n",
    "from matplotlib import pyplot as plt\n",
    "import aplpy\n",
    "from astropy.wcs import WCS\n",
    "import astropy.units as u\n",
    "from astropy.coordinates import SkyCoord\n",
    "from astropy.coordinates import ICRS, Galactic, FK4, FK5\n",
    "import warnings\n",
    "warnings.simplefilter('ignore')"
   ]
  },
  {
   "cell_type": "code",
   "execution_count": 2,
   "id": "1f24b9e2",
   "metadata": {},
   "outputs": [
    {
     "data": {
      "text/plain": [
       "'3.7.11 (default, Jan 28 2022, 19:13:48) \\n[GCC 9.3.0]'"
      ]
     },
     "execution_count": 2,
     "metadata": {},
     "output_type": "execute_result"
    }
   ],
   "source": [
    "import sys\n",
    "sys.version"
   ]
  },
  {
   "cell_type": "code",
   "execution_count": 4,
   "id": "b905a17f",
   "metadata": {},
   "outputs": [],
   "source": [
    "import fil_finder\n",
    "from fil_finder import FilFinder2D, Filament2D\n",
    "from astropy.io import fits\n",
    "import tqdm\n",
    "import copy\n",
    "import random\n",
    "from matplotlib.colors import rgb2hex\n",
    "import pandas as pd"
   ]
  },
  {
   "cell_type": "code",
   "execution_count": 6,
   "id": "d31e9757",
   "metadata": {},
   "outputs": [],
   "source": [
    "import math\n",
    "from scipy.stats import moment\n",
    "import spectral_cube\n",
    "from spectral_cube.spectral_cube import SpectralCube\n",
    "import cv2\n",
    "import skimage\n",
    "#from PIL import Image\n",
    "from scipy.ndimage import gaussian_filter\n",
    "from glob import glob\n",
    "import os"
   ]
  },
  {
   "cell_type": "code",
   "execution_count": 11,
   "id": "f0f91716",
   "metadata": {},
   "outputs": [
    {
     "data": {
      "text/plain": [
       "['/home/filament/Desktop/fits_entire/all_p30_p50.fits',\n",
       " '/home/filament/Desktop/fits_entire/all_p50_p70.fits',\n",
       " '/home/filament/Desktop/fits_entire/all_m70_m50.fits',\n",
       " '/home/filament/Desktop/fits_entire/all_m50_m30.fits',\n",
       " '/home/filament/Desktop/fits_entire/all_p70_p100.fits',\n",
       " '/home/filament/Desktop/fits_entire/all_m100_m70.fits']"
      ]
     },
     "execution_count": 11,
     "metadata": {},
     "output_type": "execute_result"
    }
   ],
   "source": [
    "fits_list = glob(os.path.join(\"/home/filament/Desktop/fits_entire/*.fits\"))\n",
    "fits_list"
   ]
  },
  {
   "cell_type": "code",
   "execution_count": 12,
   "id": "32e06d22",
   "metadata": {},
   "outputs": [
    {
     "data": {
      "text/plain": [
       "6"
      ]
     },
     "execution_count": 12,
     "metadata": {},
     "output_type": "execute_result"
    }
   ],
   "source": [
    "len(fits_list)"
   ]
  },
  {
   "cell_type": "code",
   "execution_count": 13,
   "id": "37ab7925",
   "metadata": {},
   "outputs": [],
   "source": [
    "v_range_list = [\"m100_m70\", \"m70_m50\", \"m50_m30\", \"p30_p50\", \"p50_p70\", \"p70_p100\"]"
   ]
  },
  {
   "cell_type": "code",
   "execution_count": 14,
   "id": "d00ea6fc",
   "metadata": {},
   "outputs": [],
   "source": [
    "integ_hdu_list = [fits.open([_ for _ in fits_list if v_range_list[i] in _][0])[0] for i in range(6)]\n",
    "w_list = [WCS(integ_hdu_list[i]) for i in range(6)]"
   ]
  },
  {
   "cell_type": "code",
   "execution_count": 15,
   "id": "de0108df",
   "metadata": {},
   "outputs": [],
   "source": [
    "data0 = np.zeros_like(integ_hdu_list[0].data)"
   ]
  },
  {
   "cell_type": "code",
   "execution_count": 21,
   "id": "c336d155",
   "metadata": {},
   "outputs": [
    {
     "data": {
      "text/plain": [
       "True"
      ]
     },
     "execution_count": 21,
     "metadata": {},
     "output_type": "execute_result"
    }
   ],
   "source": [
    "v_range_list[0] in fits_list[5]"
   ]
  },
  {
   "cell_type": "code",
   "execution_count": null,
   "id": "0131b56c",
   "metadata": {},
   "outputs": [],
   "source": []
  }
 ],
 "metadata": {
  "kernelspec": {
   "display_name": "Python 3 (ipykernel)",
   "language": "python",
   "name": "python3"
  },
  "language_info": {
   "codemirror_mode": {
    "name": "ipython",
    "version": 3
   },
   "file_extension": ".py",
   "mimetype": "text/x-python",
   "name": "python",
   "nbconvert_exporter": "python",
   "pygments_lexer": "ipython3",
   "version": "3.7.11"
  }
 },
 "nbformat": 4,
 "nbformat_minor": 5
}
