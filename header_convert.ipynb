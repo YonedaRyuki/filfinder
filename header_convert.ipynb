{
 "cells": [
  {
   "cell_type": "code",
   "execution_count": 1,
   "metadata": {},
   "outputs": [],
   "source": [
    "from astropy.io import fits"
   ]
  },
  {
   "cell_type": "code",
   "execution_count": 2,
   "metadata": {},
   "outputs": [],
   "source": [
    "hdu3,hdu4,hdu5=fits.open(\"imagedir/N3.fits\")[0],fits.open(\"imagedir/N4.fits\")[0],fits.open(\"imagedir/N5.fits\")[0]"
   ]
  },
  {
   "cell_type": "code",
   "execution_count": 3,
   "metadata": {},
   "outputs": [
    {
     "data": {
      "text/plain": [
       "(-79.37338326155, -79.37339015125, -79.37338948558)"
      ]
     },
     "execution_count": 3,
     "metadata": {},
     "output_type": "execute_result"
    }
   ],
   "source": [
    "hdu3.header[\"CDELT3\"],hdu4.header[\"CDELT3\"],hdu5.header[\"CDELT3\"]"
   ]
  },
  {
   "cell_type": "code",
   "execution_count": 4,
   "metadata": {},
   "outputs": [],
   "source": [
    "import numpy as np"
   ]
  },
  {
   "cell_type": "code",
   "execution_count": 6,
   "metadata": {},
   "outputs": [],
   "source": [
    "cdelt3=np.mean([hdu3.header[\"CDELT3\"],hdu4.header[\"CDELT3\"],hdu5.header[\"CDELT3\"]])"
   ]
  },
  {
   "cell_type": "code",
   "execution_count": 7,
   "metadata": {},
   "outputs": [
    {
     "data": {
      "text/plain": [
       "(402479.5704115, 402453.2564659, 402455.6538443)"
      ]
     },
     "execution_count": 7,
     "metadata": {},
     "output_type": "execute_result"
    }
   ],
   "source": [
    "hdu3.header[\"CRVAL3\"],hdu4.header[\"CRVAL3\"],hdu5.header[\"CRVAL3\"]"
   ]
  },
  {
   "cell_type": "code",
   "execution_count": 9,
   "metadata": {},
   "outputs": [],
   "source": [
    "crval3=np.mean([hdu3.header[\"CRVAL3\"],hdu4.header[\"CRVAL3\"],hdu5.header[\"CRVAL3\"]])"
   ]
  },
  {
   "cell_type": "code",
   "execution_count": 10,
   "metadata": {},
   "outputs": [],
   "source": [
    "hdu3.header[\"CDELT3\"]=cdelt3\n",
    "hdu3.header[\"CRVAL3\"]=crval3\n",
    "hdu4.header[\"CDELT3\"]=cdelt3\n",
    "hdu4.header[\"CRVAL3\"]=crval3\n",
    "hdu5.header[\"CDELT3\"]=cdelt3\n",
    "hdu5.header[\"CRVAL3\"]=crval3"
   ]
  },
  {
   "cell_type": "code",
   "execution_count": 11,
   "metadata": {},
   "outputs": [],
   "source": [
    "fits.PrimaryHDU(hdu3.data,hdu3.header).writeto(\"imagedir/N3.fits\",overwrite=True)\n",
    "fits.PrimaryHDU(hdu4.data,hdu4.header).writeto(\"imagedir/N4.fits\",overwrite=True)\n",
    "fits.PrimaryHDU(hdu5.data,hdu5.header).writeto(\"imagedir/N5.fits\",overwrite=True)"
   ]
  },
  {
   "cell_type": "code",
   "execution_count": null,
   "metadata": {},
   "outputs": [],
   "source": []
  }
 ],
 "metadata": {
  "kernelspec": {
   "display_name": "Python 3 (ipykernel)",
   "language": "python",
   "name": "python3"
  },
  "language_info": {
   "codemirror_mode": {
    "name": "ipython",
    "version": 3
   },
   "file_extension": ".py",
   "mimetype": "text/x-python",
   "name": "python",
   "nbconvert_exporter": "python",
   "pygments_lexer": "ipython3",
   "version": "3.7.11"
  }
 },
 "nbformat": 4,
 "nbformat_minor": 4
}
