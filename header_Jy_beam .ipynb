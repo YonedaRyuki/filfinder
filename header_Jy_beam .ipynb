{
 "cells": [
  {
   "cell_type": "code",
   "execution_count": 1,
   "metadata": {},
   "outputs": [],
   "source": [
    "import astropy.io\n",
    "import numpy"
   ]
  },
  {
   "cell_type": "code",
   "execution_count": 2,
   "metadata": {},
   "outputs": [],
   "source": [
    "from astropy.io import fits\n",
    "hdu = fits.open(\"/home/filament/Desktop/fil-test/test.fits\")\n",
    "header = hdu[0].header"
   ]
  },
  {
   "cell_type": "code",
   "execution_count": 3,
   "metadata": {
    "scrolled": false
   },
   "outputs": [
    {
     "data": {
      "text/plain": [
       "SIMPLE  =                    T                                                  \n",
       "BITPIX  =                  -64                                                  \n",
       "NAXIS   =                    3                                                  \n",
       "NAXIS1  =                 1505                                                  \n",
       "NAXIS2  =                 1072                                                  \n",
       "NAXIS3  =                  933                                                  \n",
       "EXTEND  =                    T / FITS dataset may contain extensions            \n",
       "COMMENT   FITS (Flexible Image Transport System) format is defined in 'Astronomy\n",
       "COMMENT   and Astrophysics', volume 376, page 359; bibcode: 2001A&A...376..359H \n",
       "CTYPE1  = 'GLON-AIT'                                                            \n",
       "CTYPE2  = 'GLAT-AIT'                                                            \n",
       "CRVAL1  =          0.000000000                                                  \n",
       "CRVAL2  =          0.000000000                                                  \n",
       "CRVAL3  =          0.000000000                                                  \n",
       "CRPIX1  =               1779.5                                                  \n",
       "CRPIX2  =                897.5                                                  \n",
       "CRPIX3  =        466.921630003                                                  \n",
       "CDELT1  =         -0.083333333                                                  \n",
       "CDELT2  =          0.083333333                                                  \n",
       "CDELT3  =       1288.214969124                                                  \n",
       "CROTA2  =          0.000000000                                                  "
      ]
     },
     "execution_count": 3,
     "metadata": {},
     "output_type": "execute_result"
    }
   ],
   "source": [
    "header"
   ]
  },
  {
   "cell_type": "code",
   "execution_count": 7,
   "metadata": {},
   "outputs": [
    {
     "data": {
      "text/plain": [
       "True"
      ]
     },
     "execution_count": 7,
     "metadata": {},
     "output_type": "execute_result"
    }
   ],
   "source": [
    "\"CTYPE1\" in header\n"
   ]
  },
  {
   "cell_type": "code",
   "execution_count": 8,
   "metadata": {},
   "outputs": [
    {
     "data": {
      "text/plain": [
       "False"
      ]
     },
     "execution_count": 8,
     "metadata": {},
     "output_type": "execute_result"
    }
   ],
   "source": [
    "'DARKCORR' in header\n"
   ]
  },
  {
   "cell_type": "code",
   "execution_count": 12,
   "metadata": {},
   "outputs": [],
   "source": [
    "header['DARKCORR'] = 'OMIT'"
   ]
  },
  {
   "cell_type": "code",
   "execution_count": 9,
   "metadata": {},
   "outputs": [],
   "source": [
    "header[\"CUNIT1\"] = \"deg\"\n",
    "header[\"CUNIT2\"] = \"deg\"\n",
    "header[\"BPA\"] = 0.0\n",
    "header[\"BMAJ\"] = 0.2706\n",
    "header[\"BMIN\"] = 0.2706\n",
    "header[\"LONPOLE\"] = 0.0\n",
    "header[\"LATPOLE\"] = 90.0"
   ]
  },
  {
   "cell_type": "code",
   "execution_count": 4,
   "metadata": {},
   "outputs": [
    {
     "data": {
      "text/plain": [
       "False"
      ]
     },
     "execution_count": 4,
     "metadata": {},
     "output_type": "execute_result"
    }
   ],
   "source": [
    "\"CUNIT1\" in header"
   ]
  },
  {
   "cell_type": "code",
   "execution_count": 11,
   "metadata": {},
   "outputs": [
    {
     "data": {
      "text/plain": [
       "SIMPLE  =                    T                                                  \n",
       "BITPIX  =                  -64                                                  \n",
       "NAXIS   =                    3                                                  \n",
       "NAXIS1  =                 1505                                                  \n",
       "NAXIS2  =                 1072                                                  \n",
       "NAXIS3  =                  933                                                  \n",
       "EXTEND  =                    T / FITS dataset may contain extensions            \n",
       "COMMENT   FITS (Flexible Image Transport System) format is defined in 'Astronomy\n",
       "COMMENT   and Astrophysics', volume 376, page 359; bibcode: 2001A&A...376..359H \n",
       "CTYPE1  = 'GLON-AIT'                                                            \n",
       "CTYPE2  = 'GLAT-AIT'                                                            \n",
       "CRVAL1  =          0.000000000                                                  \n",
       "CRVAL2  =          0.000000000                                                  \n",
       "CRVAL3  =          0.000000000                                                  \n",
       "CRPIX1  =               1779.5                                                  \n",
       "CRPIX2  =                897.5                                                  \n",
       "CRPIX3  =        466.921630003                                                  \n",
       "CDELT1  =         -0.083333333                                                  \n",
       "CDELT2  =          0.083333333                                                  \n",
       "CDELT3  =       1288.214969124                                                  \n",
       "CROTA2  =          0.000000000                                                  \n",
       "CUNIT1  = 'deg     '                                                            \n",
       "CUNIT2  = 'deg     '                                                            \n",
       "BPA     =                  0.0                                                  \n",
       "BMAJ    =               0.2706                                                  \n",
       "BMIN    =               0.2706                                                  \n",
       "LONPOLE =                  0.0                                                  \n",
       "LATPOLE =                 90.0                                                  "
      ]
     },
     "execution_count": 11,
     "metadata": {},
     "output_type": "execute_result"
    }
   ],
   "source": [
    "header"
   ]
  },
  {
   "cell_type": "code",
   "execution_count": null,
   "metadata": {},
   "outputs": [],
   "source": [
    "hdr1[\"CUNIT1\"] = integ_hdu.header[\"CUNIT1\"]\n",
    "hdr1[\"CUNIT2\"] = integ_hdu.header[\"CUNIT2\"]\n",
    "hdr1[\"BPA\"] = integ_hdu.header[\"BPA\"]\n",
    "hdr1[\"BMAJ\"] = integ_hdu.header[\"BMAJ\"]\n",
    "hdr1[\"BMIN\"] = integ_hdu.header[\"BMIN\"]\n",
    "hdr1[\"LONPOLE\"] = integ_hdu.header[\"LONPOLE\"]\n",
    "hdr1[\"LATPOLE\"] = integ_hdu.header[\"LATPOLE\"]\n"
   ]
  },
  {
   "cell_type": "code",
   "execution_count": 14,
   "metadata": {},
   "outputs": [
    {
     "data": {
      "text/plain": [
       "SIMPLE  =                    T                                                  \n",
       "BITPIX  =                  -64                                                  \n",
       "NAXIS   =                    3                                                  \n",
       "NAXIS1  =                 1505                                                  \n",
       "NAXIS2  =                 1072                                                  \n",
       "NAXIS3  =                  933                                                  \n",
       "EXTEND  =                    T / FITS dataset may contain extensions            \n",
       "COMMENT   FITS (Flexible Image Transport System) format is defined in 'Astronomy\n",
       "COMMENT   and Astrophysics', volume 376, page 359; bibcode: 2001A&A...376..359H \n",
       "CTYPE1  = 'GLON-AIT'                                                            \n",
       "CTYPE2  = 'GLAT-AIT'                                                            \n",
       "CRVAL1  =          0.000000000                                                  \n",
       "CRVAL2  =          0.000000000                                                  \n",
       "CRVAL3  =          0.000000000                                                  \n",
       "CRPIX1  =               1779.5                                                  \n",
       "CRPIX2  =                897.5                                                  \n",
       "CRPIX3  =        466.921630003                                                  \n",
       "CDELT1  =         -0.083333333                                                  \n",
       "CDELT2  =          0.083333333                                                  \n",
       "CDELT3  =       1288.214969124                                                  \n",
       "CROTA2  =          0.000000000                                                  \n",
       "DARKCORR= 'OMIT    '                                                            "
      ]
     },
     "execution_count": 14,
     "metadata": {},
     "output_type": "execute_result"
    }
   ],
   "source": [
    "header"
   ]
  },
  {
   "cell_type": "code",
   "execution_count": 16,
   "metadata": {},
   "outputs": [],
   "source": [
    "del header['DARKCORR']"
   ]
  },
  {
   "cell_type": "code",
   "execution_count": 5,
   "metadata": {},
   "outputs": [],
   "source": [
    "header[\"BUNIT\"] = \"Jy/beam\""
   ]
  },
  {
   "cell_type": "code",
   "execution_count": 5,
   "metadata": {},
   "outputs": [
    {
     "data": {
      "text/plain": [
       "'Jy/beam'"
      ]
     },
     "execution_count": 5,
     "metadata": {},
     "output_type": "execute_result"
    }
   ],
   "source": [
    "header[\"BUNIT\"]"
   ]
  },
  {
   "cell_type": "code",
   "execution_count": 6,
   "metadata": {
    "collapsed": true
   },
   "outputs": [],
   "source": [
    "data = hdu[0].data"
   ]
  },
  {
   "cell_type": "code",
   "execution_count": 7,
   "metadata": {},
   "outputs": [],
   "source": [
    "nhdu = fits.PrimaryHDU(data,header)"
   ]
  },
  {
   "cell_type": "code",
   "execution_count": 8,
   "metadata": {},
   "outputs": [],
   "source": [
    "nhdu.writeto(\"N159W_Band6_12m_12CO21_automask.pbcor.Jy_beam.fits\")"
   ]
  },
  {
   "cell_type": "code",
   "execution_count": null,
   "metadata": {
    "collapsed": true
   },
   "outputs": [],
   "source": []
  }
 ],
 "metadata": {
  "kernelspec": {
   "display_name": "Python 3 (ipykernel)",
   "language": "python",
   "name": "python3"
  },
  "language_info": {
   "codemirror_mode": {
    "name": "ipython",
    "version": 3
   },
   "file_extension": ".py",
   "mimetype": "text/x-python",
   "name": "python",
   "nbconvert_exporter": "python",
   "pygments_lexer": "ipython3",
   "version": "3.7.11"
  }
 },
 "nbformat": 4,
 "nbformat_minor": 2
}
