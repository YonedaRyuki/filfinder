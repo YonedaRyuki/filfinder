{
 "cells": [
  {
   "cell_type": "code",
   "execution_count": 3,
   "id": "1cf363bc",
   "metadata": {},
   "outputs": [],
   "source": [
    "import pandas as pd\n",
    "import numpy as np\n",
    "import matplotlib.pyplot as plt\n"
   ]
  },
  {
   "cell_type": "code",
   "execution_count": 4,
   "id": "0877659d",
   "metadata": {},
   "outputs": [],
   "source": [
    "fpath = '/home/filament/Downloads/PA_region6.csv'\n",
    "df = pd.read_csv(fpath)"
   ]
  },
  {
   "cell_type": "code",
   "execution_count": 5,
   "id": "f197ad1c",
   "metadata": {},
   "outputs": [],
   "source": [
    "fpath = fpath.split(\"/\")[4].split(\".\")[0]"
   ]
  },
  {
   "cell_type": "code",
   "execution_count": 6,
   "id": "65d3753d",
   "metadata": {},
   "outputs": [
    {
     "data": {
      "text/plain": [
       "'PA_region6'"
      ]
     },
     "execution_count": 6,
     "metadata": {},
     "output_type": "execute_result"
    }
   ],
   "source": [
    "fpath"
   ]
  },
  {
   "cell_type": "code",
   "execution_count": 7,
   "id": "faccaf27",
   "metadata": {},
   "outputs": [],
   "source": [
    "df_nonan = df.fillna('') "
   ]
  },
  {
   "cell_type": "code",
   "execution_count": 8,
   "id": "917cb824",
   "metadata": {},
   "outputs": [
    {
     "data": {
      "text/html": [
       "<div>\n",
       "<style scoped>\n",
       "    .dataframe tbody tr th:only-of-type {\n",
       "        vertical-align: middle;\n",
       "    }\n",
       "\n",
       "    .dataframe tbody tr th {\n",
       "        vertical-align: top;\n",
       "    }\n",
       "\n",
       "    .dataframe thead th {\n",
       "        text-align: right;\n",
       "    }\n",
       "</style>\n",
       "<table border=\"1\" class=\"dataframe\">\n",
       "  <thead>\n",
       "    <tr style=\"text-align: right;\">\n",
       "      <th></th>\n",
       "      <th>Region</th>\n",
       "      <th>Velocity Range(km/s)</th>\n",
       "      <th>θ(deg)</th>\n",
       "    </tr>\n",
       "  </thead>\n",
       "  <tbody>\n",
       "    <tr>\n",
       "      <th>0</th>\n",
       "      <td>region6</td>\n",
       "      <td>-50~-30</td>\n",
       "      <td>-27.8±74.0</td>\n",
       "    </tr>\n",
       "    <tr>\n",
       "      <th>1</th>\n",
       "      <td></td>\n",
       "      <td>-70~-50</td>\n",
       "      <td>-27.8±74.0</td>\n",
       "    </tr>\n",
       "    <tr>\n",
       "      <th>2</th>\n",
       "      <td></td>\n",
       "      <td>-100~-70</td>\n",
       "      <td>-35943.9±31271.3</td>\n",
       "    </tr>\n",
       "    <tr>\n",
       "      <th>3</th>\n",
       "      <td></td>\n",
       "      <td>+30~+50</td>\n",
       "      <td>error</td>\n",
       "    </tr>\n",
       "    <tr>\n",
       "      <th>4</th>\n",
       "      <td></td>\n",
       "      <td>+50~+70</td>\n",
       "      <td>9.5±107.9</td>\n",
       "    </tr>\n",
       "    <tr>\n",
       "      <th>5</th>\n",
       "      <td></td>\n",
       "      <td>+70~+100</td>\n",
       "      <td>59.0±160.3</td>\n",
       "    </tr>\n",
       "  </tbody>\n",
       "</table>\n",
       "</div>"
      ],
      "text/plain": [
       "    Region Velocity Range(km/s)            θ(deg)\n",
       "0  region6              -50~-30        -27.8±74.0\n",
       "1                       -70~-50        -27.8±74.0\n",
       "2                      -100~-70  -35943.9±31271.3\n",
       "3                       +30~+50             error\n",
       "4                       +50~+70         9.5±107.9\n",
       "5                      +70~+100        59.0±160.3"
      ]
     },
     "execution_count": 8,
     "metadata": {},
     "output_type": "execute_result"
    }
   ],
   "source": [
    "df_nonan"
   ]
  },
  {
   "cell_type": "code",
   "execution_count": 7,
   "id": "26c3c25e",
   "metadata": {},
   "outputs": [],
   "source": [
    "def TablePlot(df,outputPath,w,h,fpath):\n",
    "    fig, ax = plt.subplots(figsize=(w,h))\n",
    "    ax.axis('off')\n",
    "    ax.table(cellText=df.values,\n",
    "             colLabels=df.columns,\n",
    "             loc='center',\n",
    "             bbox=[0,0,1,1])\n",
    "    plt.savefig(outputPath+fpath)"
   ]
  },
  {
   "cell_type": "code",
   "execution_count": 8,
   "id": "5d41672a",
   "metadata": {},
   "outputs": [
    {
     "data": {
      "image/png": "[encoded data removed]",
      "text/plain": [
       "<Figure size 360x360 with 1 Axes>"
      ]
     },
     "metadata": {
      "needs_background": "light"
     },
     "output_type": "display_data"
    }
   ],
   "source": [
    "TablePlot(df_nonan,\"/home/filament/Desktop/fil_result/table/\",5,5,fpath=fpath)"
   ]
  },
  {
   "cell_type": "code",
   "execution_count": null,
   "id": "b942e3ae",
   "metadata": {},
   "outputs": [],
   "source": []
  }
 ],
 "metadata": {
  "kernelspec": {
   "display_name": "Python 3 (ipykernel)",
   "language": "python",
   "name": "python3"
  },
  "language_info": {
   "codemirror_mode": {
    "name": "ipython",
    "version": 3
   },
   "file_extension": ".py",
   "mimetype": "text/x-python",
   "name": "python",
   "nbconvert_exporter": "python",
   "pygments_lexer": "ipython3",
   "version": "3.7.11"
  }
 },
 "nbformat": 4,
 "nbformat_minor": 5
}
