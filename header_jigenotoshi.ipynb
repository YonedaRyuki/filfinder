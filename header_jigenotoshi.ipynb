{
 "cells": [
  {
   "cell_type": "code",
   "execution_count": 45,
   "metadata": {},
   "outputs": [],
   "source": [
    "import astropy.io.fits as fits\n",
    "import astropy.io\n",
    "import numpy as np\n",
    "from spectral_cube import SpectralCube as sc"
   ]
  },
  {
   "cell_type": "code",
   "execution_count": 35,
   "metadata": {},
   "outputs": [],
   "source": [
    "from astropy.io import fits\n",
    "hdu_12CO_Tpeak = fits.open(\"N159E_7m_12CO10_clean.pbcor.fits\")[0]\n"
   ]
  },
  {
   "cell_type": "code",
   "execution_count": 36,
   "metadata": {},
   "outputs": [
    {
     "data": {
      "text/plain": [
       "SIMPLE  =                    T /Standard FITS                                   \n",
       "BITPIX  =                  -32 /Floating point (32 bit)                         \n",
       "NAXIS   =                    3                                                  \n",
       "NAXIS1  =                   90                                                  \n",
       "NAXIS2  =                   90                                                  \n",
       "NAXIS3  =                  600                                                  \n",
       "EXTEND  =                    T                                                  \n",
       "BSCALE  =   1.000000000000E+00 /PHYSICAL = PIXEL*BSCALE + BZERO                 \n",
       "BZERO   =   0.000000000000E+00                                                  \n",
       "BMAJ    =   3.731699519687E-03                                                  \n",
       "BMIN    =   3.611165682475E-03                                                  \n",
       "BPA     =   7.594421386719E+00                                                  \n",
       "BTYPE   = 'Intensity'                                                           \n",
       "OBJECT  = 'Ridge-N3'                                                            \n",
       "BUNIT   = 'Jy/beam '           /Brightness (pixel) unit                         \n",
       "EQUINOX =   2.000000000000E+03                                                  \n",
       "RADESYS = 'FK5     '                                                            \n",
       "LONPOLE =   1.800000000000E+02                                                  \n",
       "LATPOLE =  -6.974616666667E+01                                                  \n",
       "PC1_1   =   1.000000000000E+00                                                  \n",
       "PC2_1   =   0.000000000000E+00                                                  \n",
       "PC3_1   =   0.000000000000E+00                                                  \n",
       "PC1_2   =   0.000000000000E+00                                                  \n",
       "PC2_2   =   1.000000000000E+00                                                  \n",
       "PC3_2   =   0.000000000000E+00                                                  \n",
       "PC1_3   =   0.000000000000E+00                                                  \n",
       "PC2_3   =   0.000000000000E+00                                                  \n",
       "PC3_3   =   1.000000000000E+00                                                  \n",
       "CTYPE1  = 'RA---SIN'                                                            \n",
       "CRVAL1  =   8.504166666667E+01                                                  \n",
       "CDELT1  =  -8.333333333333E-04                                                  \n",
       "CRPIX1  =   4.600000000000E+01                                                  \n",
       "CUNIT1  = 'deg     '                                                            \n",
       "CTYPE2  = 'DEC--SIN'                                                            \n",
       "CRVAL2  =  -6.974616666667E+01                                                  \n",
       "CDELT2  =   8.333333333333E-04                                                  \n",
       "CRPIX2  =   4.600000000000E+01                                                  \n",
       "CUNIT2  = 'deg     '                                                            \n",
       "CTYPE3  = 'VRAD    '                                                            \n",
       "CRVAL3  =   2.200000000000E+05                                                  \n",
       "CDELT3  =   9.999999997744E+01                                                  \n",
       "CRPIX3  =   1.000000000000E+00                                                  \n",
       "CUNIT3  = 'm/s     '                                                            \n",
       "PV2_1   =   0.000000000000E+00                                                  \n",
       "PV2_2   =   0.000000000000E+00                                                  \n",
       "RESTFRQ =   1.152712020180E+11 /Rest Frequency (Hz)                             \n",
       "SPECSYS = 'LSRK    '           /Spectral reference frame                        \n",
       "ALTRVAL =   1.151866112828E+11 /Alternate frequency reference value             \n",
       "ALTRPIX =   1.000000000000E+00 /Alternate frequency reference pixel             \n",
       "VELREF  =                  257 /1 LSR, 2 HEL, 3 OBS, +256 Radio                 \n",
       "COMMENT casacore non-standard usage: 4 LSD, 5 GEO, 6 SOU, 7 GAL                 \n",
       "TELESCOP= 'ALMA    '                                                            \n",
       "OBSERVER= 'tsawada '                                                            \n",
       "DATE-OBS= '2019-11-11T09:55:26.160000'                                          \n",
       "TIMESYS = 'UTC     '                                                            \n",
       "OBSRA   =   8.504166666667E+01                                                  \n",
       "OBSDEC  =  -6.974616666667E+01                                                  \n",
       "OBSGEO-X=   2.225142180269E+06                                                  \n",
       "OBSGEO-Y=  -5.440307370349E+06                                                  \n",
       "OBSGEO-Z=  -2.481029851874E+06                                                  \n",
       "INSTRUME= 'ALMA    '                                                            \n",
       "DISTANCE=   0.000000000000E+00                                                  \n",
       "DATE    = '2021-04-28T07:56:03.638000' /Date FITS file was written              \n",
       "ORIGIN  = 'CASA 5.4.0-68'                                                       "
      ]
     },
     "execution_count": 36,
     "metadata": {},
     "output_type": "execute_result"
    }
   ],
   "source": [
    "hdu_12CO_Tpeak.header"
   ]
  },
  {
   "cell_type": "code",
   "execution_count": 37,
   "metadata": {},
   "outputs": [],
   "source": [
    "cube = sc.read(hdu_12CO_Tpeak)\n"
   ]
  },
  {
   "cell_type": "code",
   "execution_count": 38,
   "metadata": {},
   "outputs": [
    {
     "data": {
      "text/plain": [
       "SpectralCube with shape=(600, 90, 90) and unit=Jy / beam:\n",
       " n_x:     90  type_x: RA---SIN  unit_x: deg    range:    84.935561 deg:   85.150184 deg\n",
       " n_y:     90  type_y: DEC--SIN  unit_y: deg    range:   -69.783667 deg:  -69.709467 deg\n",
       " n_s:    600  type_s: VRAD      unit_s: m / s  range:   220000.000 m / s:  279900.000 m / s"
      ]
     },
     "execution_count": 38,
     "metadata": {},
     "output_type": "execute_result"
    }
   ],
   "source": [
    "cube"
   ]
  },
  {
   "cell_type": "code",
   "execution_count": 39,
   "metadata": {},
   "outputs": [
    {
     "data": {
      "text/latex": [
       "$[[{\\rm NaN},~{\\rm NaN},~{\\rm NaN},~\\dots, {\\rm NaN},~{\\rm NaN},~{\\rm NaN}],~\n",
       " [{\\rm NaN},~{\\rm NaN},~{\\rm NaN},~\\dots, {\\rm NaN},~{\\rm NaN},~{\\rm NaN}],~\n",
       " [{\\rm NaN},~{\\rm NaN},~{\\rm NaN},~\\dots, {\\rm NaN},~{\\rm NaN},~{\\rm NaN}],~\n",
       " \\dots, \n",
       " [{\\rm NaN},~{\\rm NaN},~{\\rm NaN},~\\dots, {\\rm NaN},~{\\rm NaN},~{\\rm NaN}],~\n",
       " [{\\rm NaN},~{\\rm NaN},~{\\rm NaN},~\\dots, {\\rm NaN},~{\\rm NaN},~{\\rm NaN}],~\n",
       " [{\\rm NaN},~{\\rm NaN},~{\\rm NaN},~\\dots, {\\rm NaN},~{\\rm NaN},~{\\rm NaN}]] \\; \\mathrm{\\frac{Jy}{beam}}$"
      ],
      "text/plain": [
       "<Slice [[ nan, nan, nan,...,  nan, nan, nan],\n",
       "        [ nan, nan, nan,...,  nan, nan, nan],\n",
       "        [ nan, nan, nan,...,  nan, nan, nan],\n",
       "        ..., \n",
       "        [ nan, nan, nan,...,  nan, nan, nan],\n",
       "        [ nan, nan, nan,...,  nan, nan, nan],\n",
       "        [ nan, nan, nan,...,  nan, nan, nan]] Jy / beam>"
      ]
     },
     "execution_count": 39,
     "metadata": {},
     "output_type": "execute_result"
    }
   ],
   "source": [
    "cube[0]"
   ]
  },
  {
   "cell_type": "code",
   "execution_count": 40,
   "metadata": {
    "collapsed": true
   },
   "outputs": [],
   "source": [
    "subcube = cube[0]\n",
    "new_hdu = subcube.hdu"
   ]
  },
  {
   "cell_type": "code",
   "execution_count": 41,
   "metadata": {
    "scrolled": false
   },
   "outputs": [],
   "source": [
    "header=new_hdu.header"
   ]
  },
  {
   "cell_type": "code",
   "execution_count": 51,
   "metadata": {},
   "outputs": [
    {
     "data": {
      "text/plain": [
       "array([[ nan,  nan,  nan, ...,  nan,  nan,  nan],\n",
       "       [ nan,  nan,  nan, ...,  nan,  nan,  nan],\n",
       "       [ nan,  nan,  nan, ...,  nan,  nan,  nan],\n",
       "       ..., \n",
       "       [ nan,  nan,  nan, ...,  nan,  nan,  nan],\n",
       "       [ nan,  nan,  nan, ...,  nan,  nan,  nan],\n",
       "       [ nan,  nan,  nan, ...,  nan,  nan,  nan]], dtype=float32)"
      ]
     },
     "execution_count": 51,
     "metadata": {},
     "output_type": "execute_result"
    }
   ],
   "source": [
    "new_hdu.data"
   ]
  },
  {
   "cell_type": "code",
   "execution_count": 43,
   "metadata": {},
   "outputs": [],
   "source": [
    "#header[\"BUNIT\"]"
   ]
  },
  {
   "cell_type": "code",
   "execution_count": 53,
   "metadata": {},
   "outputs": [],
   "source": [
    "data = new_hdu.data"
   ]
  },
  {
   "cell_type": "code",
   "execution_count": 54,
   "metadata": {},
   "outputs": [],
   "source": [
    "nhdu = fits.PrimaryHDU(data,header)"
   ]
  },
  {
   "cell_type": "code",
   "execution_count": 55,
   "metadata": {},
   "outputs": [],
   "source": [
    "nhdu.writeto(\"a.fits\")"
   ]
  },
  {
   "cell_type": "code",
   "execution_count": null,
   "metadata": {
    "collapsed": true
   },
   "outputs": [],
   "source": []
  }
 ],
 "metadata": {
  "kernelspec": {
   "display_name": "Python 3 (ipykernel)",
   "language": "python",
   "name": "python3"
  },
  "language_info": {
   "codemirror_mode": {
    "name": "ipython",
    "version": 3
   },
   "file_extension": ".py",
   "mimetype": "text/x-python",
   "name": "python",
   "nbconvert_exporter": "python",
   "pygments_lexer": "ipython3",
   "version": "3.7.11"
  }
 },
 "nbformat": 4,
 "nbformat_minor": 2
}
